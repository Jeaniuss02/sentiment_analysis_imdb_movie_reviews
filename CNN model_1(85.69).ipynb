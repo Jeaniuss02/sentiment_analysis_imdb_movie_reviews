{
 "cells": [
  {
   "cell_type": "markdown",
   "id": "a6e14ce9",
   "metadata": {},
   "source": [
    "### Importing the libraries and dataset"
   ]
  },
  {
   "cell_type": "code",
   "execution_count": 1,
   "id": "d2a097ec",
   "metadata": {},
   "outputs": [],
   "source": [
    "import numpy as np\n",
    "import pandas as pd\n",
    "import seaborn as sns\n",
    "import matplotlib.pyplot as plt\n",
    "import plotly.express as px\n",
    "\n",
    "from sklearn.feature_extraction.text import CountVectorizer, TfidfVectorizer\n",
    "from sklearn.metrics import classification_report,confusion_matrix,accuracy_score,f1_score\n",
    "from sklearn.model_selection import train_test_split\n",
    "\n",
    "import nltk\n",
    "from nltk import pos_tag\n",
    "from nltk.corpus import wordnet\n",
    "from nltk.corpus import stopwords\n",
    "from nltk.stem import WordNetLemmatizer\n",
    "from nltk.tokenize import word_tokenize\n",
    "\n",
    "import keras\n",
    "import tensorflow as tf\n",
    "import tensorflow_hub as hub\n",
    "from tensorflow import keras \n",
    "from keras import backend as K\n",
    "from tensorflow.keras.preprocessing import sequence\n",
    "from tensorflow.keras.preprocessing.text import Tokenizer\n",
    "from tensorflow.keras.preprocessing.sequence import pad_sequences\n",
    "from tensorflow.keras.optimizers.legacy import Adam\n",
    "from tensorflow.keras.callbacks import ModelCheckpoint\n",
    "from keras.layers import LSTM, Dense, Bidirectional, Input, Embedding, Dropout, Conv1D, MaxPooling1D, GlobalMaxPooling1D, Flatten, BatchNormalization, MaxPool1D\n",
    "from tensorflow.keras.callbacks import EarlyStopping\n",
    "from keras.models import Model, Sequential\n",
    "from tensorflow.keras.utils import plot_model\n",
    "\n",
    "import re, string, unicodedata, os\n",
    "from string import punctuation\n",
    "\n",
    "from wordcloud import WordCloud,STOPWORDS\n",
    "from bs4 import BeautifulSoup\n",
    "import torch\n",
    "import transformers"
   ]
  },
  {
   "cell_type": "code",
   "execution_count": 2,
   "id": "acf37491",
   "metadata": {},
   "outputs": [
    {
     "data": {
      "text/html": [
       "<div>\n",
       "<style scoped>\n",
       "    .dataframe tbody tr th:only-of-type {\n",
       "        vertical-align: middle;\n",
       "    }\n",
       "\n",
       "    .dataframe tbody tr th {\n",
       "        vertical-align: top;\n",
       "    }\n",
       "\n",
       "    .dataframe thead th {\n",
       "        text-align: right;\n",
       "    }\n",
       "</style>\n",
       "<table border=\"1\" class=\"dataframe\">\n",
       "  <thead>\n",
       "    <tr style=\"text-align: right;\">\n",
       "      <th></th>\n",
       "      <th>review</th>\n",
       "      <th>sentiment</th>\n",
       "    </tr>\n",
       "  </thead>\n",
       "  <tbody>\n",
       "    <tr>\n",
       "      <th>0</th>\n",
       "      <td>One of the other reviewers has mentioned that ...</td>\n",
       "      <td>positive</td>\n",
       "    </tr>\n",
       "    <tr>\n",
       "      <th>1</th>\n",
       "      <td>A wonderful little production. &lt;br /&gt;&lt;br /&gt;The...</td>\n",
       "      <td>positive</td>\n",
       "    </tr>\n",
       "    <tr>\n",
       "      <th>2</th>\n",
       "      <td>I thought this was a wonderful way to spend ti...</td>\n",
       "      <td>positive</td>\n",
       "    </tr>\n",
       "    <tr>\n",
       "      <th>3</th>\n",
       "      <td>Basically there's a family where a little boy ...</td>\n",
       "      <td>negative</td>\n",
       "    </tr>\n",
       "    <tr>\n",
       "      <th>4</th>\n",
       "      <td>Petter Mattei's \"Love in the Time of Money\" is...</td>\n",
       "      <td>positive</td>\n",
       "    </tr>\n",
       "  </tbody>\n",
       "</table>\n",
       "</div>"
      ],
      "text/plain": [
       "                                              review sentiment\n",
       "0  One of the other reviewers has mentioned that ...  positive\n",
       "1  A wonderful little production. <br /><br />The...  positive\n",
       "2  I thought this was a wonderful way to spend ti...  positive\n",
       "3  Basically there's a family where a little boy ...  negative\n",
       "4  Petter Mattei's \"Love in the Time of Money\" is...  positive"
      ]
     },
     "execution_count": 2,
     "metadata": {},
     "output_type": "execute_result"
    }
   ],
   "source": [
    "df=pd.read_csv('IMDB Dataset.csv')\n",
    "df.head()"
   ]
  },
  {
   "cell_type": "code",
   "execution_count": 3,
   "id": "975ab43e",
   "metadata": {},
   "outputs": [],
   "source": [
    "# remove duplicated reviews \n",
    "df.drop_duplicates(keep='first', inplace=True)"
   ]
  },
  {
   "cell_type": "code",
   "execution_count": 4,
   "id": "ac63d176",
   "metadata": {},
   "outputs": [],
   "source": [
    "# download the stopwords corpus\n",
    "stop = stopwords.words('english')\n",
    "wl = WordNetLemmatizer()"
   ]
  },
  {
   "cell_type": "code",
   "execution_count": 5,
   "id": "42fb348f",
   "metadata": {},
   "outputs": [],
   "source": [
    "mapping = {\"ain't\": \"is not\", \"aren't\": \"are not\",\"can't\": \"cannot\", \n",
    "           \"'cause\": \"because\", \"could've\": \"could have\", \"couldn't\": \"could not\", \n",
    "           \"didn't\": \"did not\",  \"doesn't\": \"does not\", \"don't\": \"do not\", \"hadn't\": \"had not\", \n",
    "           \"hasn't\": \"has not\", \"haven't\": \"have not\", \"he'd\": \"he would\",\"he'll\": \"he will\", \n",
    "           \"he's\": \"he is\", \"how'd\": \"how did\", \"how'd'y\": \"how do you\", \"how'll\": \"how will\", \n",
    "           \"how's\": \"how is\",  \"I'd\": \"I would\", \"I'd've\": \"I would have\", \"I'll\": \"I will\", \n",
    "           \"I'll've\": \"I will have\",\"I'm\": \"I am\", \"I've\": \"I have\", \"i'd\": \"i would\", \n",
    "           \"i'd've\": \"i would have\", \"i'll\": \"i will\",  \"i'll've\": \"i will have\",\n",
    "           \"i'm\": \"i am\", \"i've\": \"i have\", \"isn't\": \"is not\", \"it'd\": \"it would\", \n",
    "           \"it'd've\": \"it would have\", \"it'll\": \"it will\", \"it'll've\": \"it will have\",\n",
    "           \"it's\": \"it is\", \"let's\": \"let us\", \"ma'am\": \"madam\", \"mayn't\": \"may not\", \n",
    "           \"might've\": \"might have\",\"mightn't\": \"might not\",\"mightn't've\": \"might not have\", \n",
    "           \"must've\": \"must have\", \"mustn't\": \"must not\", \"mustn't've\": \"must not have\", \n",
    "           \"needn't\": \"need not\", \"needn't've\": \"need not have\",\"o'clock\": \"of the clock\", \n",
    "           \"oughtn't\": \"ought not\", \"oughtn't've\": \"ought not have\", \"shan't\": \"shall not\", \n",
    "           \"sha'n't\": \"shall not\", \"shan't've\": \"shall not have\", \"she'd\": \"she would\", \n",
    "           \"she'd've\": \"she would have\", \"she'll\": \"she will\", \"she'll've\": \"she will have\", \n",
    "           \"she's\": \"she is\", \"should've\": \"should have\", \"shouldn't\": \"should not\", \n",
    "           \"shouldn't've\": \"should not have\", \"so've\": \"so have\",\"so's\": \"so as\", \"this's\": \"this is\",\n",
    "           \"that'd\": \"that would\", \"that'd've\": \"that would have\", \"that's\": \"that is\", \n",
    "           \"there'd\": \"there would\", \"there'd've\": \"there would have\", \"there's\": \"there is\", \n",
    "           \"here's\": \"here is\",\"they'd\": \"they would\", \"they'd've\": \"they would have\", \n",
    "           \"they'll\": \"they will\", \"they'll've\": \"they will have\", \"they're\": \"they are\", \n",
    "           \"they've\": \"they have\", \"to've\": \"to have\", \"wasn't\": \"was not\", \"we'd\": \"we would\", \n",
    "           \"we'd've\": \"we would have\", \"we'll\": \"we will\", \"we'll've\": \"we will have\", \n",
    "           \"we're\": \"we are\", \"we've\": \"we have\", \"weren't\": \"were not\", \n",
    "           \"what'll\": \"what will\", \"what'll've\": \"what will have\",\"what're\": \"what are\",  \n",
    "           \"what's\": \"what is\", \"what've\": \"what have\", \"when's\": \"when is\", \"when've\": \"when have\", \n",
    "           \"where'd\": \"where did\", \"where's\": \"where is\", \"where've\": \"where have\", \"who'll\": \"who will\", \n",
    "           \"who'll've\": \"who will have\", \"who's\": \"who is\", \"who've\": \"who have\", \"why's\": \"why is\", \n",
    "           \"why've\": \"why have\", \"will've\": \"will have\", \"won't\": \"will not\", \"won't've\": \"will not have\", \n",
    "           \"would've\": \"would have\", \"wouldn't\": \"would not\", \"wouldn't've\": \"would not have\", \n",
    "           \"y'all\": \"you all\", \"y'all'd\": \"you all would\",\"y'all'd've\": \"you all would have\",\n",
    "           \"y'all're\": \"you all are\",\"y'all've\": \"you all have\",\"you'd\": \"you would\", \n",
    "           \"you'd've\": \"you would have\", \"you'll\": \"you will\", \"you'll've\": \"you will have\", \n",
    "           \"you're\": \"you are\", \"you've\": \"you have\" }"
   ]
  },
  {
   "cell_type": "code",
   "execution_count": 6,
   "id": "df5e7918",
   "metadata": {},
   "outputs": [
    {
     "name": "stderr",
     "output_type": "stream",
     "text": [
      "[nltk_data] Downloading package wordnet to\n",
      "[nltk_data]     C:\\Users\\Thong\\AppData\\Roaming\\nltk_data...\n",
      "[nltk_data]   Package wordnet is already up-to-date!\n"
     ]
    }
   ],
   "source": [
    "#function to clean data\n",
    "\n",
    "import nltk\n",
    "nltk.download('wordnet')\n",
    "def clean_text(text,lemmatize = True):\n",
    "    soup = BeautifulSoup(text, \"html.parser\") #remove html tags\n",
    "    text = soup.get_text()\n",
    "    text = ' '.join([mapping[t] if t in mapping else t for t in text.split(\" \")]) #expanding chatwords and contracts clearing contractions\n",
    "    emoji_clean= re.compile(\"[\"\n",
    "                           u\"\\U0001F600-\\U0001F64F\"  # emoticons\n",
    "                           u\"\\U0001F300-\\U0001F5FF\"  # symbols & pictographs\n",
    "                           u\"\\U0001F680-\\U0001F6FF\"  # transport & map symbols\n",
    "                           u\"\\U0001F1E0-\\U0001F1FF\"  # flags (iOS)\n",
    "                           u\"\\U00002702-\\U000027B0\"\n",
    "                           u\"\\U000024C2-\\U0001F251\"\n",
    "                           \"]+\", flags=re.UNICODE)\n",
    "    text = emoji_clean.sub(r'',text)\n",
    "    text = re.sub(r'\\.(?=\\S)', '. ',text) #add space after full stop\n",
    "    text = re.sub(r'http\\S+', '', text) #remove urls\n",
    "    text = \"\".join([word.lower() for word in text if word not in string.punctuation]) #remove punctuation\n",
    "    #tokens = re.split('\\W+', text) #create tokens\n",
    "    if lemmatize:\n",
    "        text = \" \".join([wl.lemmatize(word) for word in text.split() if word not in stop and word.isalpha()]) #lemmatize\n",
    "    else:\n",
    "        text = \" \".join([word for word in text.split() if word not in stop and word.isalpha()]) \n",
    "    return text"
   ]
  },
  {
   "cell_type": "code",
   "execution_count": 7,
   "id": "781aeb83",
   "metadata": {},
   "outputs": [],
   "source": [
    "df['review']=df['review'].apply(clean_text,lemmatize = True)"
   ]
  },
  {
   "cell_type": "code",
   "execution_count": 8,
   "id": "faa98384",
   "metadata": {},
   "outputs": [
    {
     "data": {
      "text/html": [
       "<div>\n",
       "<style scoped>\n",
       "    .dataframe tbody tr th:only-of-type {\n",
       "        vertical-align: middle;\n",
       "    }\n",
       "\n",
       "    .dataframe tbody tr th {\n",
       "        vertical-align: top;\n",
       "    }\n",
       "\n",
       "    .dataframe thead th {\n",
       "        text-align: right;\n",
       "    }\n",
       "</style>\n",
       "<table border=\"1\" class=\"dataframe\">\n",
       "  <thead>\n",
       "    <tr style=\"text-align: right;\">\n",
       "      <th></th>\n",
       "      <th>review</th>\n",
       "      <th>sentiment</th>\n",
       "    </tr>\n",
       "  </thead>\n",
       "  <tbody>\n",
       "    <tr>\n",
       "      <th>0</th>\n",
       "      <td>one reviewer mentioned watching oz episode hoo...</td>\n",
       "      <td>1</td>\n",
       "    </tr>\n",
       "    <tr>\n",
       "      <th>1</th>\n",
       "      <td>wonderful little production filming technique ...</td>\n",
       "      <td>1</td>\n",
       "    </tr>\n",
       "    <tr>\n",
       "      <th>2</th>\n",
       "      <td>thought wonderful way spend time hot summer we...</td>\n",
       "      <td>1</td>\n",
       "    </tr>\n",
       "    <tr>\n",
       "      <th>3</th>\n",
       "      <td>basically family little boy jake think zombie ...</td>\n",
       "      <td>0</td>\n",
       "    </tr>\n",
       "    <tr>\n",
       "      <th>4</th>\n",
       "      <td>petter matteis love time money visually stunni...</td>\n",
       "      <td>1</td>\n",
       "    </tr>\n",
       "  </tbody>\n",
       "</table>\n",
       "</div>"
      ],
      "text/plain": [
       "                                              review  sentiment\n",
       "0  one reviewer mentioned watching oz episode hoo...          1\n",
       "1  wonderful little production filming technique ...          1\n",
       "2  thought wonderful way spend time hot summer we...          1\n",
       "3  basically family little boy jake think zombie ...          0\n",
       "4  petter matteis love time money visually stunni...          1"
      ]
     },
     "execution_count": 8,
     "metadata": {},
     "output_type": "execute_result"
    }
   ],
   "source": [
    "#converting target variable to numeric labels\n",
    "df.sentiment = [ 1 if each == \"positive\" else 0 for each in df.sentiment]\n",
    "df.head()"
   ]
  },
  {
   "cell_type": "code",
   "execution_count": 9,
   "id": "8e40b031",
   "metadata": {},
   "outputs": [],
   "source": [
    "text = df.review.tolist()\n",
    "label = df.sentiment.tolist()"
   ]
  },
  {
   "cell_type": "code",
   "execution_count": 10,
   "id": "4ec8973c",
   "metadata": {},
   "outputs": [],
   "source": [
    "X_train, X_test, y_train, y_test = train_test_split(text, label, test_size=0.2, random_state=1)"
   ]
  },
  {
   "cell_type": "code",
   "execution_count": 11,
   "id": "d088720e",
   "metadata": {},
   "outputs": [],
   "source": [
    "translator = str.maketrans(string.punctuation, ' '*len(string.punctuation)) #map punctuation to space"
   ]
  },
  {
   "cell_type": "code",
   "execution_count": 12,
   "id": "aaf8eb29",
   "metadata": {},
   "outputs": [],
   "source": [
    "X_train_clean = []\n",
    "X_test_clean = []\n",
    "clean = re.compile(r'<[^>]+>')\n",
    "for i, test in enumerate(X_train):\n",
    "    tmp_text = test.lower()\n",
    "    tmp_text = tmp_text.replace('\\n', '')\n",
    "    tmp_text = clean.sub('', tmp_text)\n",
    "    tmp_text = tmp_text.translate(translator)\n",
    "    X_train_clean.append(tmp_text)\n",
    "\n",
    "for i, test in enumerate(X_test):\n",
    "    tmp_text = test.lower()\n",
    "    tmp_text = tmp_text.replace('\\n', '')\n",
    "    tmp_text = clean.sub('', tmp_text)\n",
    "    tmp_text = tmp_text.translate(translator)\n",
    "    X_test_clean.append(tmp_text)\n",
    "\n",
    "X_train_clean = np.array(X_train_clean)\n",
    "X_test_clean = np.array(X_test_clean)\n",
    "\n",
    "X_train = X_train_clean\n",
    "X_test = X_test_clean"
   ]
  },
  {
   "cell_type": "code",
   "execution_count": 13,
   "id": "453476ae",
   "metadata": {},
   "outputs": [],
   "source": [
    "top_words = 40000\n",
    "tokenizer = Tokenizer(num_words=top_words)\n",
    "tokenizer.fit_on_texts(X_train)\n",
    "X_train = tokenizer.texts_to_sequences(X_train)\n",
    "X_test = tokenizer.texts_to_sequences(X_test)"
   ]
  },
  {
   "cell_type": "code",
   "execution_count": 14,
   "id": "fe0dccd6",
   "metadata": {},
   "outputs": [],
   "source": [
    "max_words = 100\n",
    "X_train = sequence.pad_sequences(X_train, maxlen=max_words, padding='post')\n",
    "X_test = sequence.pad_sequences(X_test, maxlen=max_words, padding='post')"
   ]
  },
  {
   "cell_type": "code",
   "execution_count": 15,
   "id": "16efe798",
   "metadata": {},
   "outputs": [],
   "source": [
    "y_train = np.array(y_train)\n",
    "y_test = np.array(y_test)"
   ]
  },
  {
   "cell_type": "code",
   "execution_count": 16,
   "id": "6e6589d4",
   "metadata": {},
   "outputs": [
    {
     "data": {
      "text/plain": [
       "(39665, 100)"
      ]
     },
     "execution_count": 16,
     "metadata": {},
     "output_type": "execute_result"
    }
   ],
   "source": [
    "X_train.shape"
   ]
  },
  {
   "cell_type": "code",
   "execution_count": 17,
   "id": "c9e40a1a",
   "metadata": {},
   "outputs": [],
   "source": [
    "model = Sequential()\n",
    "model.add(Embedding(50000,32, input_length=100))\n",
    "model.add(Conv1D(256, 3, activation='relu', padding='same'))\n",
    "model.add(MaxPool1D(2))\n",
    "model.add(Dropout(0.2))\n",
    "model.add(Conv1D(128, 3, activation='relu', padding='same'))\n",
    "model.add(MaxPool1D(2))\n",
    "model.add(Dropout(0.2))\n",
    "model.add(Flatten())\n",
    "model.add(Dense(250, activation='relu'))"
   ]
  },
  {
   "cell_type": "code",
   "execution_count": 18,
   "id": "df9469bb",
   "metadata": {},
   "outputs": [
    {
     "name": "stdout",
     "output_type": "stream",
     "text": [
      "Model: \"sequential\"\n",
      "_________________________________________________________________\n",
      " Layer (type)                Output Shape              Param #   \n",
      "=================================================================\n",
      " embedding (Embedding)       (None, 100, 32)           1600000   \n",
      "                                                                 \n",
      " conv1d (Conv1D)             (None, 100, 256)          24832     \n",
      "                                                                 \n",
      " max_pooling1d (MaxPooling1  (None, 50, 256)           0         \n",
      " D)                                                              \n",
      "                                                                 \n",
      " dropout (Dropout)           (None, 50, 256)           0         \n",
      "                                                                 \n",
      " conv1d_1 (Conv1D)           (None, 50, 128)           98432     \n",
      "                                                                 \n",
      " max_pooling1d_1 (MaxPoolin  (None, 25, 128)           0         \n",
      " g1D)                                                            \n",
      "                                                                 \n",
      " dropout_1 (Dropout)         (None, 25, 128)           0         \n",
      "                                                                 \n",
      " flatten (Flatten)           (None, 3200)              0         \n",
      "                                                                 \n",
      " dense (Dense)               (None, 250)               800250    \n",
      "                                                                 \n",
      "=================================================================\n",
      "Total params: 2523514 (9.63 MB)\n",
      "Trainable params: 2523514 (9.63 MB)\n",
      "Non-trainable params: 0 (0.00 Byte)\n",
      "_________________________________________________________________\n"
     ]
    }
   ],
   "source": [
    "model.summary()"
   ]
  },
  {
   "cell_type": "code",
   "execution_count": 19,
   "id": "10846b0f",
   "metadata": {},
   "outputs": [],
   "source": [
    "model.add(Dense(120, activation='relu'))\n",
    "model.add(Dense(1, activation='sigmoid'))"
   ]
  },
  {
   "cell_type": "code",
   "execution_count": 20,
   "id": "d51dca85",
   "metadata": {},
   "outputs": [
    {
     "name": "stdout",
     "output_type": "stream",
     "text": [
      "Model: \"sequential\"\n",
      "_________________________________________________________________\n",
      " Layer (type)                Output Shape              Param #   \n",
      "=================================================================\n",
      " embedding (Embedding)       (None, 100, 32)           1600000   \n",
      "                                                                 \n",
      " conv1d (Conv1D)             (None, 100, 256)          24832     \n",
      "                                                                 \n",
      " max_pooling1d (MaxPooling1  (None, 50, 256)           0         \n",
      " D)                                                              \n",
      "                                                                 \n",
      " dropout (Dropout)           (None, 50, 256)           0         \n",
      "                                                                 \n",
      " conv1d_1 (Conv1D)           (None, 50, 128)           98432     \n",
      "                                                                 \n",
      " max_pooling1d_1 (MaxPoolin  (None, 25, 128)           0         \n",
      " g1D)                                                            \n",
      "                                                                 \n",
      " dropout_1 (Dropout)         (None, 25, 128)           0         \n",
      "                                                                 \n",
      " flatten (Flatten)           (None, 3200)              0         \n",
      "                                                                 \n",
      " dense (Dense)               (None, 250)               800250    \n",
      "                                                                 \n",
      " dense_1 (Dense)             (None, 120)               30120     \n",
      "                                                                 \n",
      " dense_2 (Dense)             (None, 1)                 121       \n",
      "                                                                 \n",
      "=================================================================\n",
      "Total params: 2553755 (9.74 MB)\n",
      "Trainable params: 2553755 (9.74 MB)\n",
      "Non-trainable params: 0 (0.00 Byte)\n",
      "_________________________________________________________________\n"
     ]
    }
   ],
   "source": [
    "model.summary()"
   ]
  },
  {
   "cell_type": "code",
   "execution_count": 21,
   "id": "1df014b2",
   "metadata": {},
   "outputs": [],
   "source": [
    "model.compile(loss='binary_crossentropy', optimizer='adam', metrics=['accuracy'])"
   ]
  },
  {
   "cell_type": "code",
   "execution_count": 22,
   "id": "525d52e3",
   "metadata": {},
   "outputs": [
    {
     "name": "stdout",
     "output_type": "stream",
     "text": [
      "Epoch 1/20\n",
      "310/310 - 64s - loss: 0.4195 - accuracy: 0.7710 - val_loss: 0.2736 - val_accuracy: 0.8803 - 64s/epoch - 208ms/step\n",
      "Epoch 2/20\n",
      "310/310 - 64s - loss: 0.1889 - accuracy: 0.9286 - val_loss: 0.2868 - val_accuracy: 0.8862 - 64s/epoch - 206ms/step\n",
      "Epoch 3/20\n",
      "310/310 - 64s - loss: 0.0965 - accuracy: 0.9669 - val_loss: 0.3935 - val_accuracy: 0.8714 - 64s/epoch - 206ms/step\n",
      "Epoch 4/20\n",
      "310/310 - 68s - loss: 0.0528 - accuracy: 0.9823 - val_loss: 0.4775 - val_accuracy: 0.8707 - 68s/epoch - 220ms/step\n",
      "Epoch 5/20\n",
      "310/310 - 66s - loss: 0.0294 - accuracy: 0.9905 - val_loss: 0.5577 - val_accuracy: 0.8668 - 66s/epoch - 212ms/step\n",
      "Epoch 6/20\n",
      "310/310 - 64s - loss: 0.0213 - accuracy: 0.9928 - val_loss: 0.6342 - val_accuracy: 0.8630 - 64s/epoch - 206ms/step\n",
      "Epoch 7/20\n",
      "310/310 - 66s - loss: 0.0181 - accuracy: 0.9934 - val_loss: 0.7857 - val_accuracy: 0.8613 - 66s/epoch - 213ms/step\n",
      "Epoch 8/20\n",
      "310/310 - 61s - loss: 0.0122 - accuracy: 0.9959 - val_loss: 0.8793 - val_accuracy: 0.8671 - 61s/epoch - 196ms/step\n",
      "Epoch 9/20\n",
      "310/310 - 61s - loss: 0.0113 - accuracy: 0.9958 - val_loss: 0.7821 - val_accuracy: 0.8690 - 61s/epoch - 198ms/step\n",
      "Epoch 10/20\n",
      "310/310 - 60s - loss: 0.0140 - accuracy: 0.9950 - val_loss: 0.9142 - val_accuracy: 0.8627 - 60s/epoch - 194ms/step\n",
      "Epoch 11/20\n",
      "310/310 - 62s - loss: 0.0065 - accuracy: 0.9974 - val_loss: 1.0138 - val_accuracy: 0.8633 - 62s/epoch - 199ms/step\n",
      "Epoch 12/20\n",
      "310/310 - 71s - loss: 0.0073 - accuracy: 0.9975 - val_loss: 1.0293 - val_accuracy: 0.8637 - 71s/epoch - 229ms/step\n",
      "Epoch 13/20\n",
      "310/310 - 69s - loss: 0.0063 - accuracy: 0.9981 - val_loss: 1.1860 - val_accuracy: 0.8579 - 69s/epoch - 223ms/step\n",
      "Epoch 14/20\n",
      "310/310 - 63s - loss: 0.0071 - accuracy: 0.9977 - val_loss: 1.1866 - val_accuracy: 0.8628 - 63s/epoch - 202ms/step\n",
      "Epoch 15/20\n",
      "310/310 - 62s - loss: 0.0036 - accuracy: 0.9988 - val_loss: 1.2499 - val_accuracy: 0.8608 - 62s/epoch - 199ms/step\n",
      "Epoch 16/20\n",
      "310/310 - 58s - loss: 0.0073 - accuracy: 0.9972 - val_loss: 1.0636 - val_accuracy: 0.8637 - 58s/epoch - 189ms/step\n",
      "Epoch 17/20\n",
      "310/310 - 59s - loss: 0.0043 - accuracy: 0.9986 - val_loss: 1.3809 - val_accuracy: 0.8533 - 59s/epoch - 189ms/step\n",
      "Epoch 18/20\n",
      "310/310 - 68s - loss: 0.0061 - accuracy: 0.9978 - val_loss: 1.1791 - val_accuracy: 0.8618 - 68s/epoch - 220ms/step\n",
      "Epoch 19/20\n",
      "310/310 - 59s - loss: 0.0044 - accuracy: 0.9986 - val_loss: 1.3167 - val_accuracy: 0.8568 - 59s/epoch - 191ms/step\n",
      "Epoch 20/20\n",
      "310/310 - 63s - loss: 0.0042 - accuracy: 0.9985 - val_loss: 1.2105 - val_accuracy: 0.8569 - 63s/epoch - 202ms/step\n"
     ]
    },
    {
     "data": {
      "text/plain": [
       "<keras.src.callbacks.History at 0x17f440f90d0>"
      ]
     },
     "execution_count": 22,
     "metadata": {},
     "output_type": "execute_result"
    }
   ],
   "source": [
    "model.fit(X_train, y_train, validation_data=(X_test,y_test), epochs=20, batch_size=128, verbose=2)"
   ]
  },
  {
   "cell_type": "code",
   "execution_count": 23,
   "id": "26fb03c6",
   "metadata": {},
   "outputs": [
    {
     "name": "stdout",
     "output_type": "stream",
     "text": [
      "Evaluate Model Performance on Test set\n",
      "310/310 [==============================] - 5s 14ms/step - loss: 1.2105 - accuracy: 0.8569\n",
      "{'loss': 1.2104980945587158, 'accuracy': 0.85691237449646}\n"
     ]
    }
   ],
   "source": [
    "print(\"Evaluate Model Performance on Test set\")\n",
    "result = model.evaluate(X_test,y_test)\n",
    "print(dict(zip(model.metrics_names, result)))"
   ]
  },
  {
   "cell_type": "code",
   "execution_count": 25,
   "id": "91d16a5e",
   "metadata": {},
   "outputs": [
    {
     "name": "stdout",
     "output_type": "stream",
     "text": [
      "Accuracy: 85.69%\n"
     ]
    }
   ],
   "source": [
    "print(\"Accuracy: %.2f%%\" % (result[1]*100))"
   ]
  },
  {
   "cell_type": "code",
   "execution_count": null,
   "id": "da5011b0",
   "metadata": {},
   "outputs": [],
   "source": []
  }
 ],
 "metadata": {
  "kernelspec": {
   "display_name": "Python 3",
   "language": "python",
   "name": "python3"
  },
  "language_info": {
   "codemirror_mode": {
    "name": "ipython",
    "version": 3
   },
   "file_extension": ".py",
   "mimetype": "text/x-python",
   "name": "python",
   "nbconvert_exporter": "python",
   "pygments_lexer": "ipython3",
   "version": "3.8.8"
  }
 },
 "nbformat": 4,
 "nbformat_minor": 5
}
